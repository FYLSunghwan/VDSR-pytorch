{
 "cells": [
  {
   "cell_type": "code",
   "execution_count": 1,
   "metadata": {},
   "outputs": [],
   "source": [
    "import os\n",
    "import numpy as np\n",
    "from PIL import Image\n",
    "import skimage.color as sc\n",
    "\n",
    "\n",
    "def get_all_img_paths_gen(path_root, min_h=0, min_w=0):\n",
    "    for (dirpath, dirnames, filenames) in os.walk(path_root):\n",
    "        filenames = [f for f in filenames if not f[0] == '.']\n",
    "        dirnames[:] = [d for d in dirnames if not d[0] == '.']\n",
    "\n",
    "        for file in filenames:\n",
    "            if (file.endswith(tuple(['.bmp', '.jpg', '.png']))):\n",
    "                path = os.path.join(dirpath, file)\n",
    "                if min_h == 0 and min_w == 0:\n",
    "                    yield path\n",
    "                else:\n",
    "                    img = Image.open(path)\n",
    "                    if(img.mode != 'RGB'):\n",
    "                        continue\n",
    "                    img_size = img.size\n",
    "                    h = img_size[1]\n",
    "                    w = img_size[0]\n",
    "                    if(min_h <= h and min_w <= w):\n",
    "                        yield path\n",
    "                    \n",
    "def get_all_img_paths(path_root, min_h=0, min_w=0):\n",
    "    paths = []\n",
    "    for path in get_all_img_paths_gen(path_root, min_h, min_w):\n",
    "        paths.append(path)\n",
    "    return sorted(paths)\n",
    "                    \n",
    "def psnr(img1, img2, ycbcr=False, shave=0):\n",
    "    if ycbcr:\n",
    "        a = np.float32(img1)\n",
    "        b = np.float32(img2)\n",
    "        a = sc.rgb2ycbcr(a / 255)[:, :, 0]\n",
    "        b = sc.rgb2ycbcr(b / 255)[:, :, 0]\n",
    "    else:\n",
    "        a = np.array(img1).astype(np.float32)\n",
    "        b = np.array(img2).astype(np.float32)\n",
    "        \n",
    "    if shave:\n",
    "        a = a[shave:-shave, shave:-shave]\n",
    "        b = b[shave:-shave, shave:-shave]\n",
    "    \n",
    "    mse = np.mean((a - b) ** 2 )\n",
    "    if mse == 0:\n",
    "        return 100\n",
    "    PIXEL_MAX = 255.0\n",
    "    return np.minimum(100.0, 20 * np.math.log10(PIXEL_MAX) - 10 * np.math.log10(mse))\n",
    "\n",
    "\n",
    "def resize_img(img_np, height, width, resample=Image.BICUBIC):\n",
    "    img = Image.fromarray(img_np)\n",
    "    resized = img.resize((width, height), resample=resample)\n",
    "    return np.array(resized)"
   ]
  },
  {
   "cell_type": "code",
   "execution_count": 2,
   "metadata": {},
   "outputs": [
    {
     "name": "stdout",
     "output_type": "stream",
     "text": [
      "./datasets/SR_testing_datasets/Set5/baby.png 37.109061386427015\n",
      "./datasets/SR_testing_datasets/Set5/bird.png 36.730937342001866\n",
      "./datasets/SR_testing_datasets/Set5/butterfly.png 27.46215440136178\n",
      "./datasets/SR_testing_datasets/Set5/head.png 34.90124739013607\n",
      "./datasets/SR_testing_datasets/Set5/woman.png 32.159485376308346\n",
      "33.672577179247014\n"
     ]
    }
   ],
   "source": [
    "dbs = []\n",
    "paths = get_all_img_paths('./datasets/SR_testing_datasets/Set5')\n",
    "\n",
    "for path in paths:\n",
    "    gt = Image.open(path)\n",
    "    gt = np.asarray(gt)\n",
    "    h, w, c = gt.shape\n",
    "    bicubic = resize_img(gt, h//2, w//2)\n",
    "    bicubic = resize_img(bicubic, h, w)\n",
    "    \n",
    "    db = psnr(gt, bicubic, ycbcr=True)\n",
    "    dbs.append(db)\n",
    "    print (path, dbs[-1])\n",
    "\n",
    "print (np.mean(dbs))"
   ]
  },
  {
   "cell_type": "code",
   "execution_count": null,
   "metadata": {},
   "outputs": [],
   "source": []
  }
 ],
 "metadata": {
  "kernelspec": {
   "display_name": "Python 3",
   "language": "python",
   "name": "python3"
  },
  "language_info": {
   "codemirror_mode": {
    "name": "ipython",
    "version": 3
   },
   "file_extension": ".py",
   "mimetype": "text/x-python",
   "name": "python",
   "nbconvert_exporter": "python",
   "pygments_lexer": "ipython3",
   "version": "3.5.2"
  }
 },
 "nbformat": 4,
 "nbformat_minor": 4
}
