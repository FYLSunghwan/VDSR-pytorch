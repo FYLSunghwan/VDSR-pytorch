{
 "cells": [
  {
   "cell_type": "code",
   "execution_count": 1,
   "metadata": {},
   "outputs": [],
   "source": [
    "from settings import Settings\n",
    "import matplotlib.pyplot as plt\n",
    "\n",
    "import os\n",
    "import torch\n",
    "import torch.nn as nn\n",
    "import torch.optim as optim\n",
    "from torch.utils.data import DataLoader\n",
    "from utils.datasets import TrainDataset, TestDataset\n",
    "from torchvision.transforms import *\n",
    "from torch.autograd import Variable\n",
    "from model import Net\n",
    "from tensorboardX import SummaryWriter"
   ]
  },
  {
   "cell_type": "code",
   "execution_count": 2,
   "metadata": {},
   "outputs": [
    {
     "name": "stdout",
     "output_type": "stream",
     "text": [
      "cpu\n"
     ]
    }
   ],
   "source": [
    "settings = Settings()\n",
    "device = 'cuda' if torch.cuda.is_available() else 'cpu'\n",
    "print(device)"
   ]
  },
  {
   "cell_type": "code",
   "execution_count": 3,
   "metadata": {},
   "outputs": [],
   "source": [
    "def load_dataset(dataset='train'):\n",
    "    if settings.num_channels == 1:\n",
    "        is_gray = True\n",
    "    else:\n",
    "        is_gray = False\n",
    "\n",
    "    if dataset == 'train':\n",
    "        print('Loading train datasets...')\n",
    "        train_set = TrainDataset(settings=settings)\n",
    "        return DataLoader(dataset=train_set, num_workers=settings.num_threads, batch_size=settings.batch_size,\n",
    "                          shuffle=True)\n",
    "    elif dataset == 'test':\n",
    "        print('Loading test datasets...')\n",
    "        test_set = TestDataset(settings=settings)\n",
    "        return DataLoader(dataset=test_set, num_workers=settings.num_threads, batch_size=settings.test_batch_size,\n",
    "                          shuffle=False)"
   ]
  },
  {
   "cell_type": "code",
   "execution_count": 4,
   "metadata": {},
   "outputs": [],
   "source": [
    "def save_checkpoint(model, epoch):\n",
    "    model_out_path = \"checkpoint/\" + \"model_epoch_{}.pth\".format(epoch)\n",
    "    state = {\"epoch\": epoch ,\"model\": model}\n",
    "    if not os.path.exists(\"checkpoint/\"):\n",
    "        os.makedirs(\"checkpoint/\")\n",
    "\n",
    "    torch.save(state, model_out_path)\n",
    "\n",
    "    print(\"Checkpoint saved to {}\".format(model_out_path))"
   ]
  },
  {
   "cell_type": "code",
   "execution_count": 5,
   "metadata": {},
   "outputs": [],
   "source": [
    "def adjust_learning_rate(optimizer, epoch):\n",
    "    \"\"\"Sets the learning rate to the initial LR decayed by 10 every 10 epochs\"\"\"\n",
    "    lr = settings.lr * (0.1 ** (epoch // 10))\n",
    "    return lr"
   ]
  },
  {
   "cell_type": "code",
   "execution_count": 6,
   "metadata": {},
   "outputs": [],
   "source": [
    "def train(training_data_loader, optimizer, model, criterion, epoch, writer, log_iter):\n",
    "    lr = adjust_learning_rate(optimizer, epoch)\n",
    "    \n",
    "    for param_group in optimizer.param_groups:\n",
    "        param_group[\"lr\"] = lr\n",
    "        \n",
    "    print(\"Epoch = {}, lr = {}\".format(epoch, optimizer.param_groups[0][\"lr\"]))\n",
    "    avg_loss = 0.0\n",
    "    for iteration, batch in enumerate(training_data_loader, 1):\n",
    "        input, target = Variable(batch[2]), Variable(batch[1], requires_grad=False)\n",
    "\n",
    "        input = input.to(device)\n",
    "        target = target.to(device)\n",
    "\n",
    "        loss = criterion(model(input), target)\n",
    "        optimizer.zero_grad()\n",
    "        loss.backward() \n",
    "        nn.utils.clip_grad_norm_(model.parameters(), settings.clip) \n",
    "        optimizer.step()\n",
    "        writer.add_scalar('loss/iteration_loss', loss.item()/settings.batch_size, log_iter)\n",
    "        avg_loss += loss.item()\n",
    "        log_iter += 1\n",
    "        if iteration%100 == 0:\n",
    "            print(\"===> Epoch[{}]({}/{}): Loss: {:.10f}\".format(epoch, iteration, len(training_data_loader), loss.data[0]))\n",
    "    writer.add_scalar('loss/batch_loss', avg_loss/len(training_data_loader), epoch)\n",
    "    return log_iter"
   ]
  },
  {
   "cell_type": "code",
   "execution_count": 7,
   "metadata": {},
   "outputs": [
    {
     "name": "stdout",
     "output_type": "stream",
     "text": [
      "Loading train datasets...\n",
      "Successfully loaded.\n",
      "/Users/fylsunghwan/Documents/Workspace/GitHub/VDSR-pytorch/datasets/291\n"
     ]
    }
   ],
   "source": [
    "train_data = load_dataset('train')"
   ]
  },
  {
   "cell_type": "code",
   "execution_count": 8,
   "metadata": {
    "scrolled": true
   },
   "outputs": [
    {
     "data": {
      "text/plain": [
       "<matplotlib.image.AxesImage at 0x12a4f6950>"
      ]
     },
     "execution_count": 8,
     "metadata": {},
     "output_type": "execute_result"
    },
    {
     "data": {
      "image/png": "[encoded data removed]",
      "text/plain": [
       "<Figure size 432x288 with 1 Axes>"
      ]
     },
     "metadata": {
      "needs_background": "light"
     },
     "output_type": "display_data"
    }
   ],
   "source": [
    "test_data = train_data.dataset.__getitem__(4)\n",
    "plt.imshow(test_data[0].numpy().transpose((2, 1, 0)))"
   ]
  },
  {
   "cell_type": "code",
   "execution_count": 9,
   "metadata": {},
   "outputs": [
    {
     "data": {
      "text/plain": [
       "<matplotlib.image.AxesImage at 0x12a76dcd0>"
      ]
     },
     "execution_count": 9,
     "metadata": {},
     "output_type": "execute_result"
    },
    {
     "data": {
      "image/png": "[encoded data removed]",
      "text/plain": [
       "<Figure size 432x288 with 1 Axes>"
      ]
     },
     "metadata": {
      "needs_background": "light"
     },
     "output_type": "display_data"
    }
   ],
   "source": [
    "plt.imshow(test_data[1].numpy().transpose((2, 1, 0)))"
   ]
  },
  {
   "cell_type": "code",
   "execution_count": 10,
   "metadata": {},
   "outputs": [
    {
     "data": {
      "text/plain": [
       "<matplotlib.image.AxesImage at 0x12a84b310>"
      ]
     },
     "execution_count": 10,
     "metadata": {},
     "output_type": "execute_result"
    },
    {
     "data": {
      "image/png": "[encoded data removed]",
      "text/plain": [
       "<Figure size 432x288 with 1 Axes>"
      ]
     },
     "metadata": {
      "needs_background": "light"
     },
     "output_type": "display_data"
    }
   ],
   "source": [
    "plt.imshow(test_data[2].numpy().transpose((2, 1, 0)))"
   ]
  },
  {
   "cell_type": "code",
   "execution_count": null,
   "metadata": {},
   "outputs": [
    {
     "name": "stdout",
     "output_type": "stream",
     "text": [
      "Epoch = 0, lr = 0.1\n",
      "Checkpoint saved to checkpoint/model_epoch_0.pth\n",
      "Epoch = 1, lr = 0.1\n"
     ]
    },
    {
     "name": "stderr",
     "output_type": "stream",
     "text": [
      "/usr/local/lib/python3.7/site-packages/torch/serialization.py:292: UserWarning: Couldn't retrieve source code for container of type Net. It won't be checked for correctness upon loading.\n",
      "  \"type \" + obj.__name__ + \". It won't be checked \"\n",
      "/usr/local/lib/python3.7/site-packages/torch/serialization.py:292: UserWarning: Couldn't retrieve source code for container of type Conv2d. It won't be checked for correctness upon loading.\n",
      "  \"type \" + obj.__name__ + \". It won't be checked \"\n",
      "/usr/local/lib/python3.7/site-packages/torch/serialization.py:292: UserWarning: Couldn't retrieve source code for container of type Sequential. It won't be checked for correctness upon loading.\n",
      "  \"type \" + obj.__name__ + \". It won't be checked \"\n",
      "/usr/local/lib/python3.7/site-packages/torch/serialization.py:292: UserWarning: Couldn't retrieve source code for container of type Conv_Block. It won't be checked for correctness upon loading.\n",
      "  \"type \" + obj.__name__ + \". It won't be checked \"\n",
      "/usr/local/lib/python3.7/site-packages/torch/serialization.py:292: UserWarning: Couldn't retrieve source code for container of type ReLU. It won't be checked for correctness upon loading.\n",
      "  \"type \" + obj.__name__ + \". It won't be checked \"\n"
     ]
    },
    {
     "name": "stdout",
     "output_type": "stream",
     "text": [
      "Checkpoint saved to checkpoint/model_epoch_1.pth\n",
      "Epoch = 2, lr = 0.1\n",
      "Checkpoint saved to checkpoint/model_epoch_2.pth\n",
      "Epoch = 3, lr = 0.1\n",
      "Checkpoint saved to checkpoint/model_epoch_3.pth\n",
      "Epoch = 4, lr = 0.1\n",
      "Checkpoint saved to checkpoint/model_epoch_4.pth\n",
      "Epoch = 5, lr = 0.1\n",
      "Checkpoint saved to checkpoint/model_epoch_5.pth\n",
      "Epoch = 6, lr = 0.1\n",
      "Checkpoint saved to checkpoint/model_epoch_6.pth\n",
      "Epoch = 7, lr = 0.1\n",
      "Checkpoint saved to checkpoint/model_epoch_7.pth\n",
      "Epoch = 8, lr = 0.1\n",
      "Checkpoint saved to checkpoint/model_epoch_8.pth\n",
      "Epoch = 9, lr = 0.1\n",
      "Checkpoint saved to checkpoint/model_epoch_9.pth\n",
      "Epoch = 10, lr = 0.010000000000000002\n",
      "Checkpoint saved to checkpoint/model_epoch_10.pth\n",
      "Epoch = 11, lr = 0.010000000000000002\n",
      "Checkpoint saved to checkpoint/model_epoch_11.pth\n",
      "Epoch = 12, lr = 0.010000000000000002\n",
      "Checkpoint saved to checkpoint/model_epoch_12.pth\n",
      "Epoch = 13, lr = 0.010000000000000002\n",
      "Checkpoint saved to checkpoint/model_epoch_13.pth\n",
      "Epoch = 14, lr = 0.010000000000000002\n",
      "Checkpoint saved to checkpoint/model_epoch_14.pth\n",
      "Epoch = 15, lr = 0.010000000000000002\n"
     ]
    }
   ],
   "source": [
    "model = Net()\n",
    "writer = SummaryWriter()\n",
    "\n",
    "optimizer = optim.SGD(model.parameters(), lr=settings.lr, momentum=0.9, weight_decay=1e-4)\n",
    "criterion = nn.MSELoss()\n",
    "\n",
    "total_epoch = 101\n",
    "total_iter = 0\n",
    "\n",
    "for epoch in range(total_epoch):\n",
    "    total_iter = train(train_data, optimizer, model, criterion, epoch, writer=writer, log_iter=total_iter)\n",
    "    save_checkpoint(model, epoch)"
   ]
  },
  {
   "cell_type": "code",
   "execution_count": null,
   "metadata": {},
   "outputs": [],
   "source": [
    "writer = SummaryWriter()"
   ]
  }
 ],
 "metadata": {
  "kernelspec": {
   "display_name": "Python 3",
   "language": "python",
   "name": "python3"
  },
  "language_info": {
   "codemirror_mode": {
    "name": "ipython",
    "version": 3
   },
   "file_extension": ".py",
   "mimetype": "text/x-python",
   "name": "python",
   "nbconvert_exporter": "python",
   "pygments_lexer": "ipython3",
   "version": "3.7.5"
  }
 },
 "nbformat": 4,
 "nbformat_minor": 2
}
